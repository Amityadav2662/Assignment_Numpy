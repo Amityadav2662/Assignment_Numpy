{
 "cells": [
  {
   "cell_type": "code",
   "execution_count": 7,
   "id": "ec905fc6-8774-4543-9ae9-eb6be411606d",
   "metadata": {},
   "outputs": [
    {
     "data": {
      "text/plain": [
       "numpy.ndarray"
      ]
     },
     "execution_count": 7,
     "metadata": {},
     "output_type": "execute_result"
    }
   ],
   "source": [
    "# Q1. Is there any difference in the data type of variables list_ and array_list? If there is then write a code\n",
    "# to print the data types of both the variables.\n",
    "\n",
    "import numpy as np\n",
    "list_ = [ '1' , '2' , '3' , '4' , '5' ]\n",
    "array_list = np.array(object = list_)\n",
    "type(array_list)"
   ]
  },
  {
   "cell_type": "code",
   "execution_count": 8,
   "id": "917fecac-5abc-4869-9329-09017831ca39",
   "metadata": {},
   "outputs": [
    {
     "data": {
      "text/plain": [
       "list"
      ]
     },
     "execution_count": 8,
     "metadata": {},
     "output_type": "execute_result"
    }
   ],
   "source": [
    "type(list_)"
   ]
  },
  {
   "cell_type": "code",
   "execution_count": null,
   "id": "cf57d9f1-1a6c-4f83-b2fa-b1caedb7df3a",
   "metadata": {},
   "outputs": [],
   "source": [
    "Yes, there is a difference in the data type of variables list_ and array_list. In the above you will see the\n",
    "array_list type is numpy.ndarray means 1D array and the  type of list_ is list."
   ]
  },
  {
   "cell_type": "code",
   "execution_count": 10,
   "id": "68e4babe-58b1-4729-882c-d28ba3112b2e",
   "metadata": {},
   "outputs": [],
   "source": [
    "# Q2. Write a code to print the data type of each and every element of both the variables list_ and\n",
    "# arra_list.\n",
    "\n",
    "import numpy as np\n",
    "list_ = [ '1' , '2' , '3' , '4' , '5' ]\n",
    "array_list = np.array(list_)"
   ]
  },
  {
   "cell_type": "code",
   "execution_count": 13,
   "id": "48356e6c-f81f-49e1-a244-a7ffec881cd6",
   "metadata": {},
   "outputs": [
    {
     "name": "stdout",
     "output_type": "stream",
     "text": [
      "<class 'str'>\n",
      "<class 'str'>\n",
      "<class 'str'>\n",
      "<class 'str'>\n",
      "<class 'str'>\n"
     ]
    }
   ],
   "source": [
    "for i in list_:\n",
    "    print(type(i))"
   ]
  },
  {
   "cell_type": "code",
   "execution_count": 14,
   "id": "a4b30a4e-5ca4-4086-a6dc-08e916eb62fd",
   "metadata": {},
   "outputs": [
    {
     "name": "stdout",
     "output_type": "stream",
     "text": [
      "<class 'numpy.str_'>\n",
      "<class 'numpy.str_'>\n",
      "<class 'numpy.str_'>\n",
      "<class 'numpy.str_'>\n",
      "<class 'numpy.str_'>\n"
     ]
    }
   ],
   "source": [
    "for arr in array_list:\n",
    "    print(type(arr))"
   ]
  },
  {
   "cell_type": "code",
   "execution_count": 16,
   "id": "bb1304b3-1f1d-4e34-8e75-d770deb0ea43",
   "metadata": {},
   "outputs": [],
   "source": [
    "# Q3. Considering the following changes in the variable, array_list:\n",
    "# Will there be any difference in the data type of the elements present in both the variables, list_ and\n",
    "# arra_list? If so then print the data types of each and every element present in both the variables, list_\n",
    "# and arra_list.\n",
    "\n",
    "import numpy as np\n",
    "list_ = [ '1' , '2' , '3' , '4' , '5' ]\n",
    "array_list = np.array(object = list_, dtype = int)"
   ]
  },
  {
   "cell_type": "code",
   "execution_count": null,
   "id": "28356511-0297-4964-9fb0-bcb19734281e",
   "metadata": {},
   "outputs": [],
   "source": [
    "Yes, there is a difference in the data type of the elements present in both the variables, list_ and array_list\n",
    "because the list_ has string and when i come into array_list so there is a one change that is dtype is int so the \n",
    "array_list dtype convert into integer."
   ]
  },
  {
   "cell_type": "code",
   "execution_count": 18,
   "id": "3e0389d8-128a-49ad-8d84-4addc4bced13",
   "metadata": {},
   "outputs": [
    {
     "name": "stdout",
     "output_type": "stream",
     "text": [
      "<class 'str'>\n",
      "<class 'str'>\n",
      "<class 'str'>\n",
      "<class 'str'>\n",
      "<class 'str'>\n"
     ]
    }
   ],
   "source": [
    "for i in list_:\n",
    "    print(type(i))"
   ]
  },
  {
   "cell_type": "code",
   "execution_count": 19,
   "id": "6004eed6-fc5c-4428-96de-5f85fe2ecc3b",
   "metadata": {},
   "outputs": [
    {
     "name": "stdout",
     "output_type": "stream",
     "text": [
      "<class 'numpy.int64'>\n",
      "<class 'numpy.int64'>\n",
      "<class 'numpy.int64'>\n",
      "<class 'numpy.int64'>\n",
      "<class 'numpy.int64'>\n"
     ]
    }
   ],
   "source": [
    "for arr in array_list:\n",
    "    print(type(arr))"
   ]
  },
  {
   "cell_type": "code",
   "execution_count": 21,
   "id": "6714cdc4-c101-4370-add0-6024f6f3979f",
   "metadata": {},
   "outputs": [],
   "source": [
    "# Q4. Write a code to find the following characteristics of variable, num_array:\n",
    "# (i) shape\n",
    "# (ii) size\n",
    "\n",
    "import numpy as np\n",
    "num_list = [ [ 1 , 2 , 3 ] , [ 4 , 5 , 6 ] ]\n",
    "num_array = np.array(object = num_list)"
   ]
  },
  {
   "cell_type": "code",
   "execution_count": 22,
   "id": "233344b5-e076-4ff5-8f15-564bd8d88375",
   "metadata": {},
   "outputs": [
    {
     "data": {
      "text/plain": [
       "(2, 3)"
      ]
     },
     "execution_count": 22,
     "metadata": {},
     "output_type": "execute_result"
    }
   ],
   "source": [
    "num_array.shape"
   ]
  },
  {
   "cell_type": "code",
   "execution_count": 23,
   "id": "24271bc5-01c1-4ddf-b2c0-0591175dc625",
   "metadata": {},
   "outputs": [
    {
     "data": {
      "text/plain": [
       "6"
      ]
     },
     "execution_count": 23,
     "metadata": {},
     "output_type": "execute_result"
    }
   ],
   "source": [
    "num_array.size"
   ]
  },
  {
   "cell_type": "code",
   "execution_count": 26,
   "id": "ef703c2d-89c1-4d53-aaf2-ef11bac6b5e0",
   "metadata": {},
   "outputs": [],
   "source": [
    "# Q5. Write a code to create numpy array of 3*3 matrix containing zeros only, using a numpy array\n",
    "# creation function.\n",
    "# [Hint: The size of the array will be 9 and the shape will be (3,3).]\n",
    "\n",
    "numpy_matrix = np.zeros((3,3))"
   ]
  },
  {
   "cell_type": "code",
   "execution_count": 27,
   "id": "e25c2039-90ce-45f9-ac11-63ef1deb5ab0",
   "metadata": {},
   "outputs": [
    {
     "data": {
      "text/plain": [
       "array([[0., 0., 0.],\n",
       "       [0., 0., 0.],\n",
       "       [0., 0., 0.]])"
      ]
     },
     "execution_count": 27,
     "metadata": {},
     "output_type": "execute_result"
    }
   ],
   "source": [
    "numpy_matrix"
   ]
  },
  {
   "cell_type": "code",
   "execution_count": 28,
   "id": "d13e4782-6168-4cb9-95dc-6591e6c0db86",
   "metadata": {},
   "outputs": [
    {
     "data": {
      "text/plain": [
       "9"
      ]
     },
     "execution_count": 28,
     "metadata": {},
     "output_type": "execute_result"
    }
   ],
   "source": [
    "numpy_matrix.size"
   ]
  },
  {
   "cell_type": "code",
   "execution_count": 29,
   "id": "1dff29da-b050-4a54-84c1-b80892943a20",
   "metadata": {},
   "outputs": [
    {
     "data": {
      "text/plain": [
       "(3, 3)"
      ]
     },
     "execution_count": 29,
     "metadata": {},
     "output_type": "execute_result"
    }
   ],
   "source": [
    "numpy_matrix.shape"
   ]
  },
  {
   "cell_type": "code",
   "execution_count": 31,
   "id": "1793df70-3144-437c-b02e-78af0e33f2f3",
   "metadata": {},
   "outputs": [],
   "source": [
    "# Q6. Create an identity matrix of shape (5,5) using numpy functions?\n",
    "# [Hint: An identity matrix is a matrix containing 1 diagonally and other elements will be 0.]\n",
    "identity_matrix = np.eye(5,5)"
   ]
  },
  {
   "cell_type": "code",
   "execution_count": 32,
   "id": "7e6ac77e-7ab5-4559-99f5-09745133784e",
   "metadata": {},
   "outputs": [
    {
     "data": {
      "text/plain": [
       "array([[1., 0., 0., 0., 0.],\n",
       "       [0., 1., 0., 0., 0.],\n",
       "       [0., 0., 1., 0., 0.],\n",
       "       [0., 0., 0., 1., 0.],\n",
       "       [0., 0., 0., 0., 1.]])"
      ]
     },
     "execution_count": 32,
     "metadata": {},
     "output_type": "execute_result"
    }
   ],
   "source": [
    "identity_matrix"
   ]
  },
  {
   "cell_type": "code",
   "execution_count": null,
   "id": "37e2aa92-3723-422e-ab52-509e17bc7cd8",
   "metadata": {},
   "outputs": [],
   "source": []
  }
 ],
 "metadata": {
  "kernelspec": {
   "display_name": "Python 3 (ipykernel)",
   "language": "python",
   "name": "python3"
  },
  "language_info": {
   "codemirror_mode": {
    "name": "ipython",
    "version": 3
   },
   "file_extension": ".py",
   "mimetype": "text/x-python",
   "name": "python",
   "nbconvert_exporter": "python",
   "pygments_lexer": "ipython3",
   "version": "3.10.8"
  }
 },
 "nbformat": 4,
 "nbformat_minor": 5
}
